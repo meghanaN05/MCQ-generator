{
 "cells": [
  {
   "cell_type": "code",
   "execution_count": 3,
   "id": "7bf4c941",
   "metadata": {},
   "outputs": [],
   "source": [
    "import os\n",
    "import json\n",
    "import pandas as pd\n",
    "import traceback"
   ]
  },
  {
   "cell_type": "code",
   "execution_count": 6,
   "id": "5e22c7d6",
   "metadata": {},
   "outputs": [],
   "source": [
    "from langchain_azure_ai.chat_models import AzureAIChatCompletionsModel\n"
   ]
  },
  {
   "cell_type": "code",
   "execution_count": 1,
   "id": "407536f5",
   "metadata": {},
   "outputs": [
    {
     "data": {
      "text/plain": [
       "True"
      ]
     },
     "execution_count": 1,
     "metadata": {},
     "output_type": "execute_result"
    }
   ],
   "source": [
    "from dotenv import load_dotenv\n",
    "load_dotenv()"
   ]
  },
  {
   "cell_type": "code",
   "execution_count": 4,
   "id": "51bc2335",
   "metadata": {},
   "outputs": [],
   "source": [
    "YOUR_AZURE_CREDENTIAL=os.getenv(\"github_api_token\")"
   ]
  },
  {
   "cell_type": "code",
   "execution_count": 7,
   "id": "ff5db374",
   "metadata": {},
   "outputs": [],
   "source": [
    "llm = AzureAIChatCompletionsModel(\n",
    "    credential=\"YOUR_AZURE_CREDENTIAL\",\n",
    "    endpoint=\"https://models.github.ai/inference\",\n",
    "    model=\"gpt-4o\"\n",
    ")\n"
   ]
  }
 ],
 "metadata": {
  "kernelspec": {
   "display_name": "base",
   "language": "python",
   "name": "python3"
  },
  "language_info": {
   "codemirror_mode": {
    "name": "ipython",
    "version": 3
   },
   "file_extension": ".py",
   "mimetype": "text/x-python",
   "name": "python",
   "nbconvert_exporter": "python",
   "pygments_lexer": "ipython3",
   "version": "3.13.5"
  }
 },
 "nbformat": 4,
 "nbformat_minor": 5
}
