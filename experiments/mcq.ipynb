{
 "cells": [
  {
   "cell_type": "code",
   "execution_count": 26,
   "id": "7bf4c941",
   "metadata": {},
   "outputs": [],
   "source": [
    "import os\n",
    "import json\n",
    "import pandas as pd\n",
    "import traceback"
   ]
  },
  {
   "cell_type": "code",
   "execution_count": 6,
   "id": "5e22c7d6",
   "metadata": {},
   "outputs": [],
   "source": [
    "from langchain_azure_ai.chat_models import AzureAIChatCompletionsModel\n"
   ]
  },
  {
   "cell_type": "code",
   "execution_count": 35,
   "id": "407536f5",
   "metadata": {},
   "outputs": [
    {
     "data": {
      "text/plain": [
       "True"
      ]
     },
     "execution_count": 35,
     "metadata": {},
     "output_type": "execute_result"
    }
   ],
   "source": [
    "from dotenv import load_dotenv\n",
    "load_dotenv()"
   ]
  },
  {
   "cell_type": "code",
   "execution_count": 4,
   "id": "51bc2335",
   "metadata": {},
   "outputs": [],
   "source": [
    "YOUR_AZURE_CREDENTIAL=os.getenv(\"github_api_token\")"
   ]
  },
  {
   "cell_type": "code",
   "execution_count": 33,
   "id": "ff5db374",
   "metadata": {},
   "outputs": [],
   "source": [
    "llm = AzureAIChatCompletionsModel(\n",
    "    credential=YOUR_AZURE_CREDENTIAL,\n",
    "    endpoint=\"https://models.github.ai/inference\",\n",
    "    model=\"gpt-4o\"\n",
    ")\n"
   ]
  },
  {
   "cell_type": "code",
   "execution_count": 8,
   "id": "16097132",
   "metadata": {},
   "outputs": [],
   "source": [
    "from github import Github  # replaces OpenAI / ChatOpenAI\n",
    "from langchain.prompts import PromptTemplate\n",
    "from langchain.chains import SequentialChain  # you can still use chains for data processing if needed\n",
    "\n",
    "import os\n",
    "import json\n",
    "import pandas as pd\n",
    "import traceback\n",
    "from dotenv import load_dotenv\n",
    "import PyPDF2\n"
   ]
  },
  {
   "cell_type": "code",
   "execution_count": 10,
   "id": "98e6dfa9",
   "metadata": {},
   "outputs": [],
   "source": [
    "RESPONSE_JSON = {\n",
    "  \"1\" :{\n",
    "    \"mcq\":\"multiple choice question\",\n",
    "    \"options\": {\n",
    "      \"A\": \"option A\",\n",
    "      \"B\": \"option B\",\n",
    "      \"C\": \"option C\",\n",
    "      \"D\": \"option D\"\n",
    "    },\n",
    "    \"answer\": \"correct option\",\n",
    "\n",
    "\n",
    "  },\n",
    "  \"2\" :{\n",
    "    \"mcq\":\"multiple choice question\",\n",
    "    \"options\": {\n",
    "      \"A\": \"option A\",\n",
    "      \"B\": \"option B\",\n",
    "      \"C\": \"option C\",\n",
    "      \"D\": \"option D\"\n",
    "    },\n",
    "    \"answer\": \"correct option\",\n",
    "  },\n",
    "  \"3\" :{\n",
    "    \"mcq\":\"multiple choice question\",\n",
    "    \"options\": {\n",
    "      \"A\": \"option A\",\n",
    "      \"B\": \"option B\",\n",
    "      \"C\": \"option C\",\n",
    "      \"D\": \"option D\"\n",
    "    },\n",
    "    \"answer\": \"correct option\",\n",
    "  },\n",
    "\n",
    "  }"
   ]
  },
  {
   "cell_type": "code",
   "execution_count": 9,
   "id": "7169c038",
   "metadata": {},
   "outputs": [],
   "source": [
    "TEMPLATE = \"\"\"\n",
    "Text: {text}\n",
    "You are an expert in creating multiple choice questions maker.\n",
    "given the above text, create {number} multiple choice questions in the subject of {subject} with a {tone} tone.\n",
    "make sure the questions are relevant to the text and are not repeated.\n",
    "The response should be in the following JSON format:\n",
    "{response_json}\n",
    "\"\"\""
   ]
  },
  {
   "cell_type": "code",
   "execution_count": 11,
   "id": "3931208b",
   "metadata": {},
   "outputs": [],
   "source": [
    "quiz_generation_prompt=PromptTemplate(\n",
    "    input_variables=[\"text\",\"number\",\"subject\",\"tone\",\"response_json\"],\n",
    "    template=TEMPLATE)"
   ]
  },
  {
   "cell_type": "code",
   "execution_count": 12,
   "id": "3d8daad3",
   "metadata": {},
   "outputs": [],
   "source": [
    "from langchain.chains import LLMChain"
   ]
  },
  {
   "cell_type": "code",
   "execution_count": 13,
   "id": "1e848a15",
   "metadata": {},
   "outputs": [
    {
     "name": "stderr",
     "output_type": "stream",
     "text": [
      "C:\\Users\\megha\\AppData\\Local\\Temp\\ipykernel_19608\\4121478050.py:1: LangChainDeprecationWarning: The class `LLMChain` was deprecated in LangChain 0.1.17 and will be removed in 1.0. Use :meth:`~RunnableSequence, e.g., `prompt | llm`` instead.\n",
      "  quiz_chain = LLMChain(\n"
     ]
    }
   ],
   "source": [
    "quiz_chain = LLMChain(\n",
    "    llm=llm,\n",
    "    prompt=quiz_generation_prompt,\n",
    "    output_key=\"quiz\",\n",
    "    verbose=True\n",
    ")"
   ]
  },
  {
   "cell_type": "code",
   "execution_count": 14,
   "id": "020f5918",
   "metadata": {},
   "outputs": [],
   "source": [
    "TEMPLATE2=\"\"\"\n",
    "you are an expert grammar and spelling checker.given a mcq for{subject} students.\\youn need to evaluate the complexity of the questions and answers and make sure they are correct.only use at max 50 words for complexity evaluation.\n",
    "Review the following quiz for any errors or inconsistencies and correct them: {quiz}\n",
    " check from an expert english writer of the above quiz:\n",
    " \"\"\""
   ]
  },
  {
   "cell_type": "code",
   "execution_count": 15,
   "id": "356d95b1",
   "metadata": {},
   "outputs": [],
   "source": [
    "quiz_evaluation_prompt=PromptTemplate(\n",
    "    input_variables=[\"subject\",\"quiz\"],\n",
    "    template=TEMPLATE2)"
   ]
  },
  {
   "cell_type": "code",
   "execution_count": 30,
   "id": "9327364a",
   "metadata": {},
   "outputs": [],
   "source": [
    "review_chain = LLMChain(\n",
    "    llm=llm,\n",
    "    prompt=PromptTemplate(\n",
    "        input_variables=[\"subject\",\"quiz\"],\n",
    "        template=\"Review the following quiz for any errors or inconsistencies and correct them: {quiz}\"\n",
    "    ),\n",
    "    output_key=\"reviewed_quiz\",\n",
    "    verbose=True\n",
    ")"
   ]
  },
  {
   "cell_type": "code",
   "execution_count": 28,
   "id": "103055e8",
   "metadata": {},
   "outputs": [],
   "source": [
    "generate_evaluate_chain = SequentialChain(\n",
    "    chains=[quiz_chain, review_chain],\n",
    "    input_variables=[\"text\", \"number\", \"subject\", \"tone\", \"response_json\"],\n",
    "    output_variables=[\"quiz\", \"reviewed_quiz\"],\n",
    "    verbose=True\n",
    ")"
   ]
  },
  {
   "cell_type": "code",
   "execution_count": 18,
   "id": "88820be8",
   "metadata": {},
   "outputs": [],
   "source": [
    "file_path=r\"C:\\MCQ-generator\\data.txt\""
   ]
  },
  {
   "cell_type": "code",
   "execution_count": 19,
   "id": "074f3fa0",
   "metadata": {},
   "outputs": [],
   "source": [
    "with open(file_path,\"r\") as file:\n",
    "    TEXT = file.read()\n"
   ]
  },
  {
   "cell_type": "code",
   "execution_count": 20,
   "id": "3b321a9a",
   "metadata": {},
   "outputs": [
    {
     "data": {
      "text/plain": [
       "'Machine learning (ML) is a field of study in artificial intelligence concerned with the development and study of statistical algorithms that can learn from data and generalise to unseen data, and thus perform tasks without explicit instructions.[1] Within a subdiscipline in machine learning, advances in the field of deep learning have allowed neural networks, a class of statistical algorithms, to surpass many previous machine learning approaches in performance.[2]\\n\\nML finds application in many fields, including natural language processing, computer vision, speech recognition, email filtering, agriculture, and medicine. The application of ML to business problems is known as predictive analytics.\\n\\nStatistics and mathematical optimisation (mathematical programming) methods comprise the foundations of machine learning. Data mining is a related field of study, focusing on exploratory data analysis (EDA) via unsupervised learning.[4][5]\\n\\nFrom a theoretical viewpoint, probably approximately correct learning provides a framework for describing machine learning.\\nThe term machine learning was coined in 1959 by Arthur Samuel, an IBM employee and pioneer in the field of computer gaming and artificial intelligence.[6][7] The synonym self-teaching computers was also used in this time period.[8][9]\\n\\nThe earliest machine learning program was introduced in the 1950s when Arthur Samuel invented a computer program that calculated the winning chance in checkers for each side, but the history of machine learning roots back to decades of human desire and effort to study human cognitive processes.[10] In 1949, Canadian psychologist Donald Hebb published the book The Organization of Behavior, in which he introduced a theoretical neural structure formed by certain interactions among nerve cells.[11] Hebb\\'s model of neurons interacting with one another set a groundwork for how AIs and machine learning algorithms work under nodes, or artificial neurons used by computers to communicate data.[10] Other researchers who have studied human cognitive systems contributed to the modern machine learning technologies as well, including logician Walter Pitts and Warren McCulloch, who proposed the early mathematical models of neural networks to come up with algorithms that mirror human thought processes.[10]\\n\\nBy the early 1960s, an experimental \"learning machine\" with punched tape memory, called Cybertron, had been developed by Raytheon Company to analyse sonar signals, electrocardiograms, and speech patterns using rudimentary reinforcement learning. It was repetitively \"trained\" by a human operator/teacher to recognise patterns and equipped with a \"goof\" button to cause it to reevaluate incorrect decisions.[12] A representative book on research into machine learning during the 1960s was Nilsson\\'s book on Learning Machines, dealing mostly with machine learning for pattern classification.[13] Interest related to pattern recognition continued into the 1970s, as described by Duda and Hart in 1973.[14] In 1981, a report was given on using teaching strategies so that an artificial neural network learns to recognise 40 characters (26 letters, 10 digits, and 4 special symbols) from a computer terminal'"
      ]
     },
     "execution_count": 20,
     "metadata": {},
     "output_type": "execute_result"
    }
   ],
   "source": [
    "TEXT"
   ]
  },
  {
   "cell_type": "code",
   "execution_count": 31,
   "id": "0bced7da",
   "metadata": {},
   "outputs": [
    {
     "data": {
      "text/plain": [
       "'{\"1\": {\"mcq\": \"multiple choice question\", \"options\": {\"A\": \"option A\", \"B\": \"option B\", \"C\": \"option C\", \"D\": \"option D\"}, \"answer\": \"correct option\"}, \"2\": {\"mcq\": \"multiple choice question\", \"options\": {\"A\": \"option A\", \"B\": \"option B\", \"C\": \"option C\", \"D\": \"option D\"}, \"answer\": \"correct option\"}, \"3\": {\"mcq\": \"multiple choice question\", \"options\": {\"A\": \"option A\", \"B\": \"option B\", \"C\": \"option C\", \"D\": \"option D\"}, \"answer\": \"correct option\"}}'"
      ]
     },
     "execution_count": 31,
     "metadata": {},
     "output_type": "execute_result"
    }
   ],
   "source": [
    "json.dumps(RESPONSE_JSON)"
   ]
  },
  {
   "cell_type": "code",
   "execution_count": 3,
   "id": "e7172349",
   "metadata": {},
   "outputs": [],
   "source": [
    "NUMBER=5\n",
    "SUBJECT=\"machine learning\"\n",
    "TONE=\"simple\""
   ]
  }
 ],
 "metadata": {
  "kernelspec": {
   "display_name": "base",
   "language": "python",
   "name": "python3"
  },
  "language_info": {
   "codemirror_mode": {
    "name": "ipython",
    "version": 3
   },
   "file_extension": ".py",
   "mimetype": "text/x-python",
   "name": "python",
   "nbconvert_exporter": "python",
   "pygments_lexer": "ipython3",
   "version": "3.13.5"
  }
 },
 "nbformat": 4,
 "nbformat_minor": 5
}
